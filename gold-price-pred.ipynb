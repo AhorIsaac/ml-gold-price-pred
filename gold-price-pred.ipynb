{
 "cells": [
  {
   "cell_type": "code",
   "execution_count": 1,
   "metadata": {},
   "outputs": [],
   "source": [
    "import numpy as np\n",
    "import pandas as pd\n",
    "import matplotlib.pyplot as plt\n",
    "import seaborn as sns\n",
    "from sklearn.model_selection import train_test_split\n",
    "from sklearn.ensemble import RandomForestRegressor\n",
    "from sklearn import metrics"
   ]
  },
  {
   "cell_type": "code",
   "execution_count": 2,
   "metadata": {},
   "outputs": [],
   "source": [
    "# -- Data Collection and Analysis \n",
    "\n",
    "# -- load the csv data to pandas DataFrame\n",
    "gold_dataset = pd.read_csv(\"./gld_price_data.csv\")"
   ]
  },
  {
   "cell_type": "code",
   "execution_count": 3,
   "metadata": {},
   "outputs": [
    {
     "data": {
      "text/html": [
       "<div>\n",
       "<style scoped>\n",
       "    .dataframe tbody tr th:only-of-type {\n",
       "        vertical-align: middle;\n",
       "    }\n",
       "\n",
       "    .dataframe tbody tr th {\n",
       "        vertical-align: top;\n",
       "    }\n",
       "\n",
       "    .dataframe thead th {\n",
       "        text-align: right;\n",
       "    }\n",
       "</style>\n",
       "<table border=\"1\" class=\"dataframe\">\n",
       "  <thead>\n",
       "    <tr style=\"text-align: right;\">\n",
       "      <th></th>\n",
       "      <th>Date</th>\n",
       "      <th>SPX</th>\n",
       "      <th>GLD</th>\n",
       "      <th>USO</th>\n",
       "      <th>SLV</th>\n",
       "      <th>EUR/USD</th>\n",
       "    </tr>\n",
       "  </thead>\n",
       "  <tbody>\n",
       "    <tr>\n",
       "      <th>0</th>\n",
       "      <td>1/2/2008</td>\n",
       "      <td>1447.160034</td>\n",
       "      <td>84.860001</td>\n",
       "      <td>78.470001</td>\n",
       "      <td>15.180</td>\n",
       "      <td>1.471692</td>\n",
       "    </tr>\n",
       "    <tr>\n",
       "      <th>1</th>\n",
       "      <td>1/3/2008</td>\n",
       "      <td>1447.160034</td>\n",
       "      <td>85.570000</td>\n",
       "      <td>78.370003</td>\n",
       "      <td>15.285</td>\n",
       "      <td>1.474491</td>\n",
       "    </tr>\n",
       "    <tr>\n",
       "      <th>2</th>\n",
       "      <td>1/4/2008</td>\n",
       "      <td>1411.630005</td>\n",
       "      <td>85.129997</td>\n",
       "      <td>77.309998</td>\n",
       "      <td>15.167</td>\n",
       "      <td>1.475492</td>\n",
       "    </tr>\n",
       "    <tr>\n",
       "      <th>3</th>\n",
       "      <td>1/7/2008</td>\n",
       "      <td>1416.180054</td>\n",
       "      <td>84.769997</td>\n",
       "      <td>75.500000</td>\n",
       "      <td>15.053</td>\n",
       "      <td>1.468299</td>\n",
       "    </tr>\n",
       "    <tr>\n",
       "      <th>4</th>\n",
       "      <td>1/8/2008</td>\n",
       "      <td>1390.189941</td>\n",
       "      <td>86.779999</td>\n",
       "      <td>76.059998</td>\n",
       "      <td>15.590</td>\n",
       "      <td>1.557099</td>\n",
       "    </tr>\n",
       "  </tbody>\n",
       "</table>\n",
       "</div>"
      ],
      "text/plain": [
       "       Date          SPX        GLD        USO     SLV   EUR/USD\n",
       "0  1/2/2008  1447.160034  84.860001  78.470001  15.180  1.471692\n",
       "1  1/3/2008  1447.160034  85.570000  78.370003  15.285  1.474491\n",
       "2  1/4/2008  1411.630005  85.129997  77.309998  15.167  1.475492\n",
       "3  1/7/2008  1416.180054  84.769997  75.500000  15.053  1.468299\n",
       "4  1/8/2008  1390.189941  86.779999  76.059998  15.590  1.557099"
      ]
     },
     "execution_count": 3,
     "metadata": {},
     "output_type": "execute_result"
    }
   ],
   "source": [
    "# -- print the 1st 5 rows\n",
    "gold_dataset.head()"
   ]
  },
  {
   "cell_type": "code",
   "execution_count": 4,
   "metadata": {},
   "outputs": [
    {
     "data": {
      "text/html": [
       "<div>\n",
       "<style scoped>\n",
       "    .dataframe tbody tr th:only-of-type {\n",
       "        vertical-align: middle;\n",
       "    }\n",
       "\n",
       "    .dataframe tbody tr th {\n",
       "        vertical-align: top;\n",
       "    }\n",
       "\n",
       "    .dataframe thead th {\n",
       "        text-align: right;\n",
       "    }\n",
       "</style>\n",
       "<table border=\"1\" class=\"dataframe\">\n",
       "  <thead>\n",
       "    <tr style=\"text-align: right;\">\n",
       "      <th></th>\n",
       "      <th>Date</th>\n",
       "      <th>SPX</th>\n",
       "      <th>GLD</th>\n",
       "      <th>USO</th>\n",
       "      <th>SLV</th>\n",
       "      <th>EUR/USD</th>\n",
       "    </tr>\n",
       "  </thead>\n",
       "  <tbody>\n",
       "    <tr>\n",
       "      <th>2285</th>\n",
       "      <td>5/8/2018</td>\n",
       "      <td>2671.919922</td>\n",
       "      <td>124.589996</td>\n",
       "      <td>14.0600</td>\n",
       "      <td>15.5100</td>\n",
       "      <td>1.186789</td>\n",
       "    </tr>\n",
       "    <tr>\n",
       "      <th>2286</th>\n",
       "      <td>5/9/2018</td>\n",
       "      <td>2697.790039</td>\n",
       "      <td>124.330002</td>\n",
       "      <td>14.3700</td>\n",
       "      <td>15.5300</td>\n",
       "      <td>1.184722</td>\n",
       "    </tr>\n",
       "    <tr>\n",
       "      <th>2287</th>\n",
       "      <td>5/10/2018</td>\n",
       "      <td>2723.070068</td>\n",
       "      <td>125.180000</td>\n",
       "      <td>14.4100</td>\n",
       "      <td>15.7400</td>\n",
       "      <td>1.191753</td>\n",
       "    </tr>\n",
       "    <tr>\n",
       "      <th>2288</th>\n",
       "      <td>5/14/2018</td>\n",
       "      <td>2730.129883</td>\n",
       "      <td>124.489998</td>\n",
       "      <td>14.3800</td>\n",
       "      <td>15.5600</td>\n",
       "      <td>1.193118</td>\n",
       "    </tr>\n",
       "    <tr>\n",
       "      <th>2289</th>\n",
       "      <td>5/16/2018</td>\n",
       "      <td>2725.780029</td>\n",
       "      <td>122.543800</td>\n",
       "      <td>14.4058</td>\n",
       "      <td>15.4542</td>\n",
       "      <td>1.182033</td>\n",
       "    </tr>\n",
       "  </tbody>\n",
       "</table>\n",
       "</div>"
      ],
      "text/plain": [
       "           Date          SPX         GLD      USO      SLV   EUR/USD\n",
       "2285   5/8/2018  2671.919922  124.589996  14.0600  15.5100  1.186789\n",
       "2286   5/9/2018  2697.790039  124.330002  14.3700  15.5300  1.184722\n",
       "2287  5/10/2018  2723.070068  125.180000  14.4100  15.7400  1.191753\n",
       "2288  5/14/2018  2730.129883  124.489998  14.3800  15.5600  1.193118\n",
       "2289  5/16/2018  2725.780029  122.543800  14.4058  15.4542  1.182033"
      ]
     },
     "execution_count": 4,
     "metadata": {},
     "output_type": "execute_result"
    }
   ],
   "source": [
    "# -- print the last 5 rows\n",
    "gold_dataset.tail()"
   ]
  },
  {
   "cell_type": "code",
   "execution_count": 5,
   "metadata": {},
   "outputs": [
    {
     "name": "stdout",
     "output_type": "stream",
     "text": [
      "<class 'pandas.core.frame.DataFrame'>\n",
      "RangeIndex: 2290 entries, 0 to 2289\n",
      "Data columns (total 6 columns):\n",
      " #   Column   Non-Null Count  Dtype  \n",
      "---  ------   --------------  -----  \n",
      " 0   Date     2290 non-null   object \n",
      " 1   SPX      2290 non-null   float64\n",
      " 2   GLD      2290 non-null   float64\n",
      " 3   USO      2290 non-null   float64\n",
      " 4   SLV      2290 non-null   float64\n",
      " 5   EUR/USD  2290 non-null   float64\n",
      "dtypes: float64(5), object(1)\n",
      "memory usage: 107.5+ KB\n"
     ]
    }
   ],
   "source": [
    "# -- number of rows and columns\n",
    "gold_dataset.info()"
   ]
  },
  {
   "cell_type": "code",
   "execution_count": 6,
   "metadata": {},
   "outputs": [
    {
     "data": {
      "text/plain": [
       "Date       0\n",
       "SPX        0\n",
       "GLD        0\n",
       "USO        0\n",
       "SLV        0\n",
       "EUR/USD    0\n",
       "dtype: int64"
      ]
     },
     "execution_count": 6,
     "metadata": {},
     "output_type": "execute_result"
    }
   ],
   "source": [
    "# -- check the number of missing values \n",
    "gold_dataset.isnull().sum()"
   ]
  },
  {
   "cell_type": "code",
   "execution_count": 7,
   "metadata": {},
   "outputs": [
    {
     "data": {
      "text/html": [
       "<div>\n",
       "<style scoped>\n",
       "    .dataframe tbody tr th:only-of-type {\n",
       "        vertical-align: middle;\n",
       "    }\n",
       "\n",
       "    .dataframe tbody tr th {\n",
       "        vertical-align: top;\n",
       "    }\n",
       "\n",
       "    .dataframe thead th {\n",
       "        text-align: right;\n",
       "    }\n",
       "</style>\n",
       "<table border=\"1\" class=\"dataframe\">\n",
       "  <thead>\n",
       "    <tr style=\"text-align: right;\">\n",
       "      <th></th>\n",
       "      <th>SPX</th>\n",
       "      <th>GLD</th>\n",
       "      <th>USO</th>\n",
       "      <th>SLV</th>\n",
       "      <th>EUR/USD</th>\n",
       "    </tr>\n",
       "  </thead>\n",
       "  <tbody>\n",
       "    <tr>\n",
       "      <th>count</th>\n",
       "      <td>2290.000000</td>\n",
       "      <td>2290.000000</td>\n",
       "      <td>2290.000000</td>\n",
       "      <td>2290.000000</td>\n",
       "      <td>2290.000000</td>\n",
       "    </tr>\n",
       "    <tr>\n",
       "      <th>mean</th>\n",
       "      <td>1654.315776</td>\n",
       "      <td>122.732875</td>\n",
       "      <td>31.842221</td>\n",
       "      <td>20.084997</td>\n",
       "      <td>1.283653</td>\n",
       "    </tr>\n",
       "    <tr>\n",
       "      <th>std</th>\n",
       "      <td>519.111540</td>\n",
       "      <td>23.283346</td>\n",
       "      <td>19.523517</td>\n",
       "      <td>7.092566</td>\n",
       "      <td>0.131547</td>\n",
       "    </tr>\n",
       "    <tr>\n",
       "      <th>min</th>\n",
       "      <td>676.530029</td>\n",
       "      <td>70.000000</td>\n",
       "      <td>7.960000</td>\n",
       "      <td>8.850000</td>\n",
       "      <td>1.039047</td>\n",
       "    </tr>\n",
       "    <tr>\n",
       "      <th>25%</th>\n",
       "      <td>1239.874969</td>\n",
       "      <td>109.725000</td>\n",
       "      <td>14.380000</td>\n",
       "      <td>15.570000</td>\n",
       "      <td>1.171313</td>\n",
       "    </tr>\n",
       "    <tr>\n",
       "      <th>50%</th>\n",
       "      <td>1551.434998</td>\n",
       "      <td>120.580002</td>\n",
       "      <td>33.869999</td>\n",
       "      <td>17.268500</td>\n",
       "      <td>1.303297</td>\n",
       "    </tr>\n",
       "    <tr>\n",
       "      <th>75%</th>\n",
       "      <td>2073.010070</td>\n",
       "      <td>132.840004</td>\n",
       "      <td>37.827501</td>\n",
       "      <td>22.882500</td>\n",
       "      <td>1.369971</td>\n",
       "    </tr>\n",
       "    <tr>\n",
       "      <th>max</th>\n",
       "      <td>2872.870117</td>\n",
       "      <td>184.589996</td>\n",
       "      <td>117.480003</td>\n",
       "      <td>47.259998</td>\n",
       "      <td>1.598798</td>\n",
       "    </tr>\n",
       "  </tbody>\n",
       "</table>\n",
       "</div>"
      ],
      "text/plain": [
       "               SPX          GLD          USO          SLV      EUR/USD\n",
       "count  2290.000000  2290.000000  2290.000000  2290.000000  2290.000000\n",
       "mean   1654.315776   122.732875    31.842221    20.084997     1.283653\n",
       "std     519.111540    23.283346    19.523517     7.092566     0.131547\n",
       "min     676.530029    70.000000     7.960000     8.850000     1.039047\n",
       "25%    1239.874969   109.725000    14.380000    15.570000     1.171313\n",
       "50%    1551.434998   120.580002    33.869999    17.268500     1.303297\n",
       "75%    2073.010070   132.840004    37.827501    22.882500     1.369971\n",
       "max    2872.870117   184.589996   117.480003    47.259998     1.598798"
      ]
     },
     "execution_count": 7,
     "metadata": {},
     "output_type": "execute_result"
    }
   ],
   "source": [
    "# -- statistical measures\n",
    "gold_dataset.describe()"
   ]
  },
  {
   "cell_type": "code",
   "execution_count": 8,
   "metadata": {},
   "outputs": [
    {
     "name": "stderr",
     "output_type": "stream",
     "text": [
      "<ipython-input-8-a2900a594dfd>:4: FutureWarning: The default value of numeric_only in DataFrame.corr is deprecated. In a future version, it will default to False. Select only valid columns or specify the value of numeric_only to silence this warning.\n",
      "  correlation = gold_dataset.corr()\n"
     ]
    }
   ],
   "source": [
    "# -- Correlation \n",
    "# - positive correlation, negative correlation\n",
    "\n",
    "correlation = gold_dataset.corr()"
   ]
  },
  {
   "cell_type": "code",
   "execution_count": 9,
   "metadata": {},
   "outputs": [
    {
     "data": {
      "text/plain": [
       "<AxesSubplot:>"
      ]
     },
     "execution_count": 9,
     "metadata": {},
     "output_type": "execute_result"
    },
    {
     "data": {
      "image/png": "[encoded data removed]",
      "text/plain": [
       "<Figure size 576x576 with 2 Axes>"
      ]
     },
     "metadata": {
      "needs_background": "light"
     },
     "output_type": "display_data"
    }
   ],
   "source": [
    "# -- constructing a heatmap to understand the correlation \n",
    "plt.figure(figsize=(8, 8))\n",
    "sns.heatmap(correlation, cbar=True, square=True, fmt='.1f', annot=True, annot_kws={'size': 8}, cmap='Blues')"
   ]
  },
  {
   "cell_type": "code",
   "execution_count": 10,
   "metadata": {},
   "outputs": [
    {
     "data": {
      "text/plain": [
       "SPX        0.049345\n",
       "GLD        1.000000\n",
       "USO       -0.186360\n",
       "SLV        0.866632\n",
       "EUR/USD   -0.024375\n",
       "Name: GLD, dtype: float64"
      ]
     },
     "execution_count": 10,
     "metadata": {},
     "output_type": "execute_result"
    }
   ],
   "source": [
    "# -- correlation values of GLD\n",
    "correlation['GLD']"
   ]
  },
  {
   "cell_type": "code",
   "execution_count": 11,
   "metadata": {},
   "outputs": [
    {
     "data": {
      "text/plain": [
       "<seaborn.axisgrid.FacetGrid at 0xfe24709d30>"
      ]
     },
     "execution_count": 11,
     "metadata": {},
     "output_type": "execute_result"
    },
    {
     "data": {
      "image/png": "[encoded data removed]",
      "text/plain": [
       "<Figure size 360x360 with 1 Axes>"
      ]
     },
     "metadata": {
      "needs_background": "light"
     },
     "output_type": "display_data"
    }
   ],
   "source": [
    "# -- check the distribution of GLD\n",
    "sns.displot(gold_dataset['GLD'], color='green', kind='kde')"
   ]
  },
  {
   "cell_type": "code",
   "execution_count": 12,
   "metadata": {},
   "outputs": [],
   "source": [
    "# -- Splitting the Features and Target\n",
    "X = gold_dataset.drop(['Date', 'GLD'], axis=1)\n",
    "y = gold_dataset['GLD']"
   ]
  },
  {
   "cell_type": "code",
   "execution_count": 13,
   "metadata": {},
   "outputs": [
    {
     "data": {
      "text/html": [
       "<div>\n",
       "<style scoped>\n",
       "    .dataframe tbody tr th:only-of-type {\n",
       "        vertical-align: middle;\n",
       "    }\n",
       "\n",
       "    .dataframe tbody tr th {\n",
       "        vertical-align: top;\n",
       "    }\n",
       "\n",
       "    .dataframe thead th {\n",
       "        text-align: right;\n",
       "    }\n",
       "</style>\n",
       "<table border=\"1\" class=\"dataframe\">\n",
       "  <thead>\n",
       "    <tr style=\"text-align: right;\">\n",
       "      <th></th>\n",
       "      <th>SPX</th>\n",
       "      <th>USO</th>\n",
       "      <th>SLV</th>\n",
       "      <th>EUR/USD</th>\n",
       "    </tr>\n",
       "  </thead>\n",
       "  <tbody>\n",
       "    <tr>\n",
       "      <th>0</th>\n",
       "      <td>1447.160034</td>\n",
       "      <td>78.470001</td>\n",
       "      <td>15.1800</td>\n",
       "      <td>1.471692</td>\n",
       "    </tr>\n",
       "    <tr>\n",
       "      <th>1</th>\n",
       "      <td>1447.160034</td>\n",
       "      <td>78.370003</td>\n",
       "      <td>15.2850</td>\n",
       "      <td>1.474491</td>\n",
       "    </tr>\n",
       "    <tr>\n",
       "      <th>2</th>\n",
       "      <td>1411.630005</td>\n",
       "      <td>77.309998</td>\n",
       "      <td>15.1670</td>\n",
       "      <td>1.475492</td>\n",
       "    </tr>\n",
       "    <tr>\n",
       "      <th>3</th>\n",
       "      <td>1416.180054</td>\n",
       "      <td>75.500000</td>\n",
       "      <td>15.0530</td>\n",
       "      <td>1.468299</td>\n",
       "    </tr>\n",
       "    <tr>\n",
       "      <th>4</th>\n",
       "      <td>1390.189941</td>\n",
       "      <td>76.059998</td>\n",
       "      <td>15.5900</td>\n",
       "      <td>1.557099</td>\n",
       "    </tr>\n",
       "    <tr>\n",
       "      <th>...</th>\n",
       "      <td>...</td>\n",
       "      <td>...</td>\n",
       "      <td>...</td>\n",
       "      <td>...</td>\n",
       "    </tr>\n",
       "    <tr>\n",
       "      <th>2285</th>\n",
       "      <td>2671.919922</td>\n",
       "      <td>14.060000</td>\n",
       "      <td>15.5100</td>\n",
       "      <td>1.186789</td>\n",
       "    </tr>\n",
       "    <tr>\n",
       "      <th>2286</th>\n",
       "      <td>2697.790039</td>\n",
       "      <td>14.370000</td>\n",
       "      <td>15.5300</td>\n",
       "      <td>1.184722</td>\n",
       "    </tr>\n",
       "    <tr>\n",
       "      <th>2287</th>\n",
       "      <td>2723.070068</td>\n",
       "      <td>14.410000</td>\n",
       "      <td>15.7400</td>\n",
       "      <td>1.191753</td>\n",
       "    </tr>\n",
       "    <tr>\n",
       "      <th>2288</th>\n",
       "      <td>2730.129883</td>\n",
       "      <td>14.380000</td>\n",
       "      <td>15.5600</td>\n",
       "      <td>1.193118</td>\n",
       "    </tr>\n",
       "    <tr>\n",
       "      <th>2289</th>\n",
       "      <td>2725.780029</td>\n",
       "      <td>14.405800</td>\n",
       "      <td>15.4542</td>\n",
       "      <td>1.182033</td>\n",
       "    </tr>\n",
       "  </tbody>\n",
       "</table>\n",
       "<p>2290 rows × 4 columns</p>\n",
       "</div>"
      ],
      "text/plain": [
       "              SPX        USO      SLV   EUR/USD\n",
       "0     1447.160034  78.470001  15.1800  1.471692\n",
       "1     1447.160034  78.370003  15.2850  1.474491\n",
       "2     1411.630005  77.309998  15.1670  1.475492\n",
       "3     1416.180054  75.500000  15.0530  1.468299\n",
       "4     1390.189941  76.059998  15.5900  1.557099\n",
       "...           ...        ...      ...       ...\n",
       "2285  2671.919922  14.060000  15.5100  1.186789\n",
       "2286  2697.790039  14.370000  15.5300  1.184722\n",
       "2287  2723.070068  14.410000  15.7400  1.191753\n",
       "2288  2730.129883  14.380000  15.5600  1.193118\n",
       "2289  2725.780029  14.405800  15.4542  1.182033\n",
       "\n",
       "[2290 rows x 4 columns]"
      ]
     },
     "execution_count": 13,
     "metadata": {},
     "output_type": "execute_result"
    }
   ],
   "source": [
    "X"
   ]
  },
  {
   "cell_type": "code",
   "execution_count": 14,
   "metadata": {},
   "outputs": [
    {
     "data": {
      "text/plain": [
       "0        84.860001\n",
       "1        85.570000\n",
       "2        85.129997\n",
       "3        84.769997\n",
       "4        86.779999\n",
       "           ...    \n",
       "2285    124.589996\n",
       "2286    124.330002\n",
       "2287    125.180000\n",
       "2288    124.489998\n",
       "2289    122.543800\n",
       "Name: GLD, Length: 2290, dtype: float64"
      ]
     },
     "execution_count": 14,
     "metadata": {},
     "output_type": "execute_result"
    }
   ],
   "source": [
    "y"
   ]
  },
  {
   "cell_type": "code",
   "execution_count": 17,
   "metadata": {},
   "outputs": [],
   "source": [
    "# -- splitting into training data, and test data \n",
    "X_train, X_test, y_train, y_test = train_test_split(X, y, test_size=0.2, random_state=2)"
   ]
  },
  {
   "cell_type": "code",
   "execution_count": 18,
   "metadata": {},
   "outputs": [],
   "source": [
    "# -- Model Training : Random Forest Classifier\n",
    "regressor = RandomForestRegressor(n_estimators=100)"
   ]
  },
  {
   "cell_type": "code",
   "execution_count": 19,
   "metadata": {},
   "outputs": [
    {
     "data": {
      "text/plain": [
       "RandomForestRegressor()"
      ]
     },
     "execution_count": 19,
     "metadata": {},
     "output_type": "execute_result"
    }
   ],
   "source": [
    "# -- training the model \n",
    "regressor.fit(X_train, y_train)"
   ]
  },
  {
   "cell_type": "code",
   "execution_count": 20,
   "metadata": {},
   "outputs": [],
   "source": [
    "# -- model evaluation\n",
    "\n",
    "# -- prediction on test data \n",
    "test_data_prediction = regressor.predict(X_test)"
   ]
  },
  {
   "cell_type": "code",
   "execution_count": 21,
   "metadata": {},
   "outputs": [
    {
     "data": {
      "text/plain": [
       "array([168.80739958,  82.3775998 , 116.12550007, 127.71240076,\n",
       "       120.72100134, 154.58959776, 149.97149868, 126.19680041,\n",
       "       117.358699  , 125.8641014 , 116.64430102, 172.08710066,\n",
       "       142.01289858, 167.82039842, 115.06980011, 117.94190042,\n",
       "       137.62890333, 169.63160056, 158.57520199, 161.09539864,\n",
       "       155.23340023, 124.97959955, 176.2972996 , 156.774903  ,\n",
       "       125.07470033,  93.69329968,  77.4710004 , 120.76339998,\n",
       "       119.14689969, 167.5135994 ,  88.22690056, 125.35670004,\n",
       "        91.28170043, 117.59570041, 121.08119907, 135.90870105,\n",
       "       115.68090145, 115.26340078, 145.9158992 , 107.12840101,\n",
       "       104.25350247,  87.02879786, 126.58680054, 117.84440008,\n",
       "       152.87619887, 119.63749996, 108.34690016, 107.87169851,\n",
       "        93.14910048, 127.05299791,  75.0211004 , 113.62969906,\n",
       "       121.41009994, 111.30069888, 118.8159988 , 120.58029913,\n",
       "       159.32929975, 168.03930039, 146.81709636,  85.78529859,\n",
       "        94.22750012,  86.89399913,  90.49250007, 119.03040065,\n",
       "       126.47660087, 127.58210006, 169.94430015, 122.26899924,\n",
       "       117.26979887,  98.88220047, 168.13310195, 143.33729817,\n",
       "       131.49960272, 121.18380243, 120.53049944, 119.80970074,\n",
       "       114.4519014 , 118.29550059, 107.06310105, 127.89320099,\n",
       "       113.84399973, 108.09019977, 116.55870075, 119.59939851,\n",
       "        88.97710013,  88.22349861, 147.21950284, 127.21980013,\n",
       "       113.43060073, 110.3966988 , 108.316599  ,  77.91089889,\n",
       "       168.74850095, 114.10669907, 121.7361989 , 128.12820194,\n",
       "       154.95339769,  91.79809969, 135.50080099, 159.24160361,\n",
       "       125.74380065, 125.18580074, 130.35180194, 114.74290121,\n",
       "       119.83380022,  92.13919977, 110.24779886, 166.92499933,\n",
       "       155.879199  , 114.25429941, 106.80590134,  79.45120003,\n",
       "       113.3304005 , 125.80670066, 107.38219934, 119.23920043,\n",
       "       154.53990366, 159.86419837, 120.19369991, 133.51160348,\n",
       "       101.51679996, 117.57239816, 119.32510062, 112.90950073,\n",
       "       102.77229903, 160.3334978 ,  98.93780029, 147.96249851,\n",
       "       125.61000119, 169.23779998, 126.0197987 , 127.46219712,\n",
       "       127.4086015 , 113.73129919, 112.96320063, 123.58299902,\n",
       "       102.05869906,  89.25790011, 124.48899992, 101.91079958,\n",
       "       107.28289871, 113.48550047, 117.48310071,  99.28449951,\n",
       "       121.82010036, 163.30719826,  87.31969883, 106.94760003,\n",
       "       117.31390089, 127.80260115, 124.0678009 ,  80.68519941,\n",
       "       120.44450076, 157.90779849,  88.05139961, 110.36589954,\n",
       "       119.03319927, 172.75129827, 103.05629889, 105.90210049,\n",
       "       122.58419992, 158.00549786,  87.77689826,  93.42180081,\n",
       "       112.50790004, 177.83079961, 114.53909987, 119.35270033,\n",
       "        94.6992008 , 125.76290021, 166.13820053, 114.93080096,\n",
       "       116.95780122,  88.2782986 , 149.22560119, 120.51639921,\n",
       "        89.3661996 , 112.10000014, 117.30220039, 118.70690126,\n",
       "        88.09779928,  94.1178001 , 116.96450016, 118.51250189,\n",
       "       120.36290011, 126.7843982 , 121.74430021, 151.59360057,\n",
       "       164.51290069, 118.57629957, 120.27520166, 150.44130051,\n",
       "       118.24769891, 172.56599845, 105.47909933, 105.12260107,\n",
       "       149.45000135, 113.73720066, 124.98380081, 146.91449954,\n",
       "       119.65140121, 115.32800017, 112.81370006, 113.49540172,\n",
       "       140.49610148, 117.8334978 , 102.95030022, 115.92670091,\n",
       "       103.5292018 ,  98.9221003 , 117.42520096,  90.65420006,\n",
       "        91.74160017, 153.77169946, 102.65689948, 155.02430089,\n",
       "       114.3791015 , 139.31420104,  90.1420982 , 115.45789923,\n",
       "       114.88739953, 122.97890031, 121.67290043, 165.45610106,\n",
       "        92.93029963, 136.12260173, 121.35629937, 120.83970094,\n",
       "       104.87590028, 142.21190252, 121.64289939, 116.80460052,\n",
       "       113.69450089, 127.19629727, 122.7527994 , 125.68789888,\n",
       "       121.20810058,  86.85599906, 132.59090171, 142.74370282,\n",
       "        92.7205997 , 156.88039998, 158.94390283, 126.09959925,\n",
       "       164.16929965, 108.76119943, 109.66730078, 103.69229834,\n",
       "        94.22230102, 128.04150294, 107.04600052, 160.98020012,\n",
       "       121.89720018, 131.94250018, 130.4056023 , 160.73639939,\n",
       "        90.26029832, 176.25970177, 128.59830017, 126.83389868,\n",
       "        86.54779919, 124.37139972, 150.15529714,  89.65910001,\n",
       "       106.92149996, 109.0019999 ,  83.92229892, 135.64259958,\n",
       "       154.75770273, 138.65820362,  74.42719995, 151.96520139,\n",
       "       125.91889963, 126.79010009, 127.50459949, 108.57139981,\n",
       "       156.32860008, 114.50710079, 116.95470118, 125.42289955,\n",
       "       153.84410088, 121.29299982, 156.399899  ,  92.82680031,\n",
       "       125.57570151, 125.37850005,  87.89580055,  92.21879938,\n",
       "       126.11869983, 128.45490393, 113.15510075, 117.41159705,\n",
       "       120.97260059, 127.23019779, 119.68600118, 135.96590087,\n",
       "        93.72919891, 119.84820029, 113.19950095,  94.23799934,\n",
       "       108.95329955,  87.5054992 , 109.13589905,  89.77189963,\n",
       "        92.32470055, 131.51710342, 162.22190024,  89.561     ,\n",
       "       119.78140065, 133.3608016 , 123.86500026, 128.3067022 ,\n",
       "       101.93319816,  89.02719859, 131.44370034, 119.43050013,\n",
       "       108.50359991, 166.52800158, 115.18090063,  86.59729886,\n",
       "       118.84130085,  91.10879946, 162.27419945, 116.28890026,\n",
       "       121.51260005, 160.14339768, 119.93849948, 112.73069977,\n",
       "       108.5003986 , 126.65230003,  75.95750045, 103.05870002,\n",
       "       127.90770291, 121.78069917,  92.68310004, 132.32730105,\n",
       "       118.33780112, 116.08049948, 154.67930262, 159.702601  ,\n",
       "       109.92469969, 155.71869777, 119.21800116, 160.75760119,\n",
       "       118.57940045, 158.04199961, 115.08669883, 116.72120065,\n",
       "       148.98799902, 114.95040066, 126.01239868, 164.73300021,\n",
       "       117.66010002, 125.27239939, 153.05610322, 153.44670207,\n",
       "       132.31100063, 114.73990071, 121.30710187, 125.28460116,\n",
       "        89.78400049, 123.28380019, 154.54940185, 111.68150033,\n",
       "       106.73559998, 161.8661004 , 118.23939949, 165.71339991,\n",
       "       134.18450064, 114.92209969, 152.83699869, 168.4376991 ,\n",
       "       115.69400014, 114.06650127, 158.95009816,  85.29799897,\n",
       "       127.05400074, 127.72440082, 128.91429874, 124.33240097,\n",
       "       123.88030076,  90.58870085, 153.23060135,  97.13639981,\n",
       "       136.6090993 ,  88.95319915, 108.03439983, 114.9758004 ,\n",
       "       112.84870084, 123.9792994 ,  91.42429851, 125.30320145,\n",
       "       162.25149945, 119.96859894, 165.0428007 , 126.74989827,\n",
       "       112.45950024, 127.59729934,  94.99219904,  90.71999987,\n",
       "       103.11579927, 120.89110004,  83.17239926, 126.34899975,\n",
       "       159.44060439, 117.39870093, 118.37660001, 119.97969974,\n",
       "       123.03369966, 120.1347012 , 121.46050018, 118.29690045,\n",
       "       107.10109969, 148.38639993, 126.4555983 , 115.828401  ,\n",
       "        73.74940003, 127.84470118, 154.25400076, 123.30630007,\n",
       "       125.5606007 ,  88.95280039, 103.80569885, 124.52740047,\n",
       "       120.22850003,  73.46140073, 151.76299953, 121.24950063,\n",
       "       104.67280038,  86.34959766, 115.09029911, 172.2233985 ,\n",
       "       119.75440031, 160.41549746, 113.19879938, 121.03720023,\n",
       "       118.63600113,  95.89169977, 118.85010032, 126.2939003 ,\n",
       "       118.54039948,  95.83260046, 153.88970158, 122.11620022,\n",
       "       147.17239955, 159.22910251, 113.60480052, 122.65259914,\n",
       "       149.82399744, 126.98890045, 165.62400105, 135.94050049,\n",
       "       120.05309958, 167.57189874, 108.37189931, 121.51839874,\n",
       "       136.94100101, 107.04089882])"
      ]
     },
     "execution_count": 21,
     "metadata": {},
     "output_type": "execute_result"
    }
   ],
   "source": [
    "test_data_prediction"
   ]
  },
  {
   "cell_type": "code",
   "execution_count": 23,
   "metadata": {},
   "outputs": [
    {
     "name": "stdout",
     "output_type": "stream",
     "text": [
      "R Squared Error : 0.9893606490358079\n"
     ]
    }
   ],
   "source": [
    "# -- R Squared Error \n",
    "error_score = metrics.r2_score(y_test, test_data_prediction)\n",
    "print(\"R Squared Error : {}\".format(error_score))"
   ]
  },
  {
   "cell_type": "code",
   "execution_count": 24,
   "metadata": {},
   "outputs": [],
   "source": [
    "# -- compare the actual values and the predicted values \n",
    "y_test = list(y_test)"
   ]
  },
  {
   "cell_type": "code",
   "execution_count": 25,
   "metadata": {},
   "outputs": [
    {
     "data": {
      "image/png": "[encoded data removed]",
      "text/plain": [
       "<Figure size 432x288 with 1 Axes>"
      ]
     },
     "metadata": {
      "needs_background": "light"
     },
     "output_type": "display_data"
    }
   ],
   "source": [
    "plt.plot(y_test, color='blue', label='Actual Value')\n",
    "plt.plot(test_data_prediction, color='green', label='Predicted Value')\n",
    "plt.title(\"Actual Prices vs. Predicted Prices\")\n",
    "plt.xlabel(\"Number of Values\")\n",
    "plt.ylabel(\"GLD Price\")\n",
    "plt.legend()\n",
    "plt.show()"
   ]
  }
 ],
 "metadata": {
  "kernelspec": {
   "display_name": "Python 3",
   "language": "python",
   "name": "python3"
  },
  "language_info": {
   "codemirror_mode": {
    "name": "ipython",
    "version": 3
   },
   "file_extension": ".py",
   "mimetype": "text/x-python",
   "name": "python",
   "nbconvert_exporter": "python",
   "pygments_lexer": "ipython3",
   "version": "3.9.6"
  },
  "orig_nbformat": 4,
  "vscode": {
   "interpreter": {
    "hash": "17f5952bae32d6189ffd28db1c2e652ba93d39dc3225232bd5e9f888086e47ab"
   }
  }
 },
 "nbformat": 4,
 "nbformat_minor": 2
}
